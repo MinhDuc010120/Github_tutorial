{
 "cells": [
  {
   "cell_type": "code",
   "execution_count": null,
   "id": "bc07d785",
   "metadata": {},
   "outputs": [],
   "source": [
    "#Zadacha1"
   ]
  },
  {
   "cell_type": "code",
   "execution_count": 2,
   "id": "c7227f04",
   "metadata": {},
   "outputs": [],
   "source": [
    "import math\n",
    "def horner(poly , n,x):\n",
    "    res = poly[0]\n",
    "    for i in range (1,n):\n",
    "        res = res*x + poly[i]\n",
    "    return res"
   ]
  },
  {
   "cell_type": "code",
   "execution_count": 5,
   "id": "017ba2e6",
   "metadata": {},
   "outputs": [
    {
     "name": "stdout",
     "output_type": "stream",
     "text": [
      "1.0010005001667084\n",
      "0.0\n"
     ]
    }
   ],
   "source": [
    "def exp(x,n):\n",
    "    res = 1/math.factorial(n)\n",
    "    for i in range(n-1,-1,-1):\n",
    "        res = res*x+(1/math.factorial(i))\n",
    "    return res\n",
    "print(exp(0.001,1000))\n",
    "#compare\n",
    "\n",
    "print(exp(0.001,1000)-math.exp(0.001))\n"
   ]
  },
  {
   "cell_type": "markdown",
   "id": "4d5865a8",
   "metadata": {},
   "source": [
    "#Zadacha2\n"
   ]
  },
  {
   "cell_type": "code",
   "execution_count": 6,
   "id": "c95ef997",
   "metadata": {},
   "outputs": [
    {
     "name": "stdout",
     "output_type": "stream",
     "text": [
      "   November 2021\n",
      "Mo Tu We Th Fr Sa Su\n",
      " 1  2  3  4  5  6  7\n",
      " 8  9 10 11 12 13 14\n",
      "15 16 17 18 19 20 21\n",
      "22 23 24 25 26 27 28\n",
      "29 30\n",
      "\n"
     ]
    }
   ],
   "source": [
    "import calendar\n",
    "\n",
    "yy = 2021\n",
    "mm = 11\n",
    "\n",
    "#displat the calendar\n",
    "\n",
    "print(calendar.month(yy,mm))"
   ]
  },
  {
   "cell_type": "code",
   "execution_count": 8,
   "id": "3104bfc8",
   "metadata": {},
   "outputs": [],
   "source": [
    "#Zadacha 3"
   ]
  },
  {
   "cell_type": "code",
   "execution_count": 9,
   "id": "3fa911c7",
   "metadata": {},
   "outputs": [
    {
     "name": "stdout",
     "output_type": "stream",
     "text": [
      "{2: 1, 3: 2, 4: 3, 5: 4, 6: 5, 7: 6, 8: 5, 9: 4, 10: 3, 11: 2, 12: 1}\n",
      "{2: 1, 3: 2, 4: 3, 5: 4, 6: 5, 7: 6, 8: 5, 9: 4, 10: 3, 11: 2, 12: 1}\n"
     ]
    }
   ],
   "source": [
    "A = [1,3,4,5,6,8]\n",
    "B = [1,2,2,3,3,4]\n",
    "standard_die = [1,2,3,4,5,6]\n",
    "def sum(first_gie,second_gie):\n",
    "  dict = {}\n",
    "  for i in first_gie:\n",
    "    for j in second_gie:\n",
    "      sum = i + j\n",
    "      if sum not in dict.keys():\n",
    "        dict[sum] = 1\n",
    "      else:\n",
    "        dict[sum]+=1\n",
    "  return dict\n",
    "\n",
    "print(sum(A,B))\n",
    "print(sum(standard_die,standard_die))"
   ]
  },
  {
   "cell_type": "code",
   "execution_count": null,
   "id": "50e6b37b",
   "metadata": {},
   "outputs": [],
   "source": []
  }
 ],
 "metadata": {
  "kernelspec": {
   "display_name": "Python 3",
   "language": "python",
   "name": "python3"
  },
  "language_info": {
   "codemirror_mode": {
    "name": "ipython",
    "version": 3
   },
   "file_extension": ".py",
   "mimetype": "text/x-python",
   "name": "python",
   "nbconvert_exporter": "python",
   "pygments_lexer": "ipython3",
   "version": "3.8.8"
  }
 },
 "nbformat": 4,
 "nbformat_minor": 5
}
